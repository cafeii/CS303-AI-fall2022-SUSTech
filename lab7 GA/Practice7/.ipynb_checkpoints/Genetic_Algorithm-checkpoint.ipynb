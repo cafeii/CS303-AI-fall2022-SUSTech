{
 "cells": [
  {
   "cell_type": "code",
   "execution_count": 1,
   "metadata": {
    "ExecuteTime": {
     "end_time": "2022-11-02T14:01:56.211098Z",
     "start_time": "2022-11-02T14:01:55.685621Z"
    },
    "pycharm": {
     "name": "#%%\n"
    }
   },
   "outputs": [],
   "source": [
    "%load_ext autoreload\n",
    "%autoreload 2\n",
    "import random\n",
    "import numpy as np\n",
    "import matplotlib.pyplot as plt\n",
    "from utils import plot_NQueens, plot_evolution"
   ]
  },
  {
   "cell_type": "markdown",
   "metadata": {
    "pycharm": {
     "name": "#%% md\n"
    }
   },
   "source": [
    "# Local Search: Genetic Algorithm\n",
    "\n",
    "## 1.Genrating Phrases\n",
    "\n",
    "In this section we consider a toy problem: generating a target phrases (e.g. \"genetic algorithm\") from an initial polupation of random strings. Assume the length of the target is known.\n",
    "\n",
    "Problem Formulation: \n",
    "\n",
    "1. Direct Representation: just strings.\n",
    "2. Exponential Search Space: $m^l$ where $m$ is the size of the alphabet (set of characters in our interest) and $l$ is the length of the string.\n",
    "\n",
    "Now that we want to solve it with GA:\n",
    "1. Chromesome: directly use the string itself.\n",
    "2. Fitness: how match/close an individual is to the target.\n",
    "3. Mating: combine two strings in someway to generate a new one.\n",
    "\n",
    "The following cells will walk you through this problem to show the basic idea of GA"
   ]
  },
  {
   "cell_type": "code",
   "execution_count": 2,
   "metadata": {
    "ExecuteTime": {
     "end_time": "2022-11-02T14:01:56.371244Z",
     "start_time": "2022-11-02T14:01:56.317195Z"
    },
    "pycharm": {
     "name": "#%%\n"
    }
   },
   "outputs": [
    {
     "data": {
      "text/plain": [
       "['CRPxhBCGinZ eqzYK',\n",
       " 'zubKTVGUDLntKveEV',\n",
       " 'zgfLzXxlxiApfPzdH',\n",
       " 'ucdKKVCTlFGaVhjwP',\n",
       " 'irTGgTfKtCyynTaNz',\n",
       " 'aVcGqfoGXCnDzhbph',\n",
       " 'QgOoLBoAwsuESERWn',\n",
       " 'XewIfXwhGitRVkZyA',\n",
       " 'MoxEYGjawBtoqKLdP',\n",
       " 'vuAjAYlKTRCFxHtJP']"
      ]
     },
     "execution_count": 2,
     "metadata": {},
     "output_type": "execute_result"
    }
   ],
   "source": [
    "# setting up the problem\n",
    "target = 'Genetic Algorithm'\n",
    "u_case = [chr(x) for x in range(65, 91)]\n",
    "l_case = [chr(x) for x in range(97, 123)]\n",
    "gene_pool = u_case + l_case + [' '] # all English chracters and white space\n",
    "\n",
    "def init_population(pop_size, gene_pool, state_length):\n",
    "    \"\"\"\n",
    "    Randomly initialize a population for genetic algorithm\n",
    "        pop_size  :  Number of individuals in population\n",
    "        gene_pool   :  List of possible values for individuals\n",
    "        state_length:  The length of each individual\n",
    "    \"\"\"\n",
    "\n",
    "    population = []\n",
    "    for _ in range(pop_size):\n",
    "        new_individual = \"\".join(random.choices(gene_pool, k=state_length))\n",
    "        population.append(new_individual)\n",
    "\n",
    "    return population\n",
    "\n",
    "# test\n",
    "init_pop = init_population(10, gene_pool, len(target))\n",
    "init_pop"
   ]
  },
  {
   "cell_type": "code",
   "execution_count": 124,
   "metadata": {
    "ExecuteTime": {
     "end_time": "2022-11-02T16:56:52.970259Z",
     "start_time": "2022-11-02T16:56:52.916210Z"
    },
    "pycharm": {
     "name": "#%%\n"
    }
   },
   "outputs": [],
   "source": [
    "# now refactor things into a *Problem* abstraction\n",
    "# you can directly reuse what you have implemented above\n",
    "from abc import ABC, abstractmethod\n",
    "\n",
    "class GAProblem(ABC):\n",
    "    @abstractmethod\n",
    "    def init_population(self, pop_size): pass\n",
    "\n",
    "    @abstractmethod\n",
    "    def fitness(self, sample): pass\n",
    "\n",
    "    @abstractmethod\n",
    "    def reproduce(self, population): pass\n",
    "\n",
    "    @abstractmethod\n",
    "    def replacement(self, old, new): pass\n",
    "\n",
    "class PhraseGeneration(GAProblem):\n",
    "    def __init__(self, target, alphabet):\n",
    "        self.target = target\n",
    "        self.alphabet = alphabet\n",
    "\n",
    "    def init_population(self, pop_size):\n",
    "        population = []\n",
    "        for _ in range(pop_size):\n",
    "            new_i = ''.join(random.choices(self.alphabet, k=len(self.target)))\n",
    "            population.append(new_i)\n",
    "        return population\n",
    "\n",
    "    def fitness(self, sample):\n",
    "        score = 0\n",
    "        for i in range(len(sample)):\n",
    "            if sample[i] == self.target[i]:\n",
    "                score += 1 \n",
    "        return score\n",
    "    \n",
    "    def reproduce(self, population, mutation_rate):\n",
    "        \"\"\"\n",
    "        TODO: generate the next generation of population\n",
    "\n",
    "        hint: make a new individual with \n",
    "        \n",
    "        mutate(recombine(*select(2, population, fitness_fn)), gene_pool, pmut)\n",
    "\n",
    "        \"\"\"\n",
    "        pop_size = len(population)\n",
    "        scores = []\n",
    "        for i in population:\n",
    "            scores.append(self.fitness(i))\n",
    "        scores = np.argsort(np.array(scores))\n",
    "        population = np.array(population)\n",
    "        parents = population[scores[-2:]].tolist()\n",
    "        \n",
    "        children = []\n",
    "        for i in range(pop_size):\n",
    "            r = random.randrange(0, len(parents[0]))\n",
    "            child = parents[0][:r] + parents[1][r:]\n",
    "        \n",
    "            if random.uniform(0, 1) >= mutation_rate:\n",
    "                children.append(child)\n",
    "                continue\n",
    "            n = len(child)\n",
    "            g = len(self.alphabet)\n",
    "            c = random.randrange(0, n)\n",
    "            r = random.randrange(0, g)\n",
    "        \n",
    "            children.append(child[:c] + self.alphabet[r] + child[c+1:])\n",
    "        return children\n",
    "    \n",
    "    def replacement(self, old, new):\n",
    "        \"\"\"\n",
    "        You can use your own strategy, for example retain some solutions from the old population\n",
    "        \"\"\"\n",
    "        return new\n",
    "\n",
    "def genetic_algorithm(\n",
    "        problem: GAProblem, \n",
    "        ngen, n_init_size, mutation_rate, \n",
    "        log_intervel=1000\n",
    "    ):\n",
    "\n",
    "    population = problem.init_population(n_init_size)\n",
    "    best = max(population, key=problem.fitness)\n",
    "    history = [(0, list(map(problem.fitness, population)))]\n",
    "\n",
    "    for gen in range(ngen):\n",
    "        next_gen    = problem.reproduce(population, mutation_rate)\n",
    "        population  = problem.replacement(population, next_gen)\n",
    "\n",
    "        if gen % log_intervel == 0:\n",
    "            current_best = max(population, key=problem.fitness)\n",
    "            if problem.fitness(current_best) > problem.fitness(best): best = current_best\n",
    "            print(f\"Generation: {gen}/{ngen},\\tBest: {best},\\tFitness={problem.fitness(best)}\")         \n",
    "            history.append((gen, list(map(problem.fitness, population))))\n",
    "    \n",
    "    history.append((ngen-1, list(map(problem.fitness, population))))\n",
    "    return best, history"
   ]
  },
  {
   "cell_type": "code",
   "execution_count": 5,
   "metadata": {
    "ExecuteTime": {
     "end_time": "2022-11-02T14:02:16.724274Z",
     "start_time": "2022-11-02T14:02:16.180251Z"
    },
    "pycharm": {
     "name": "#%%\n"
    }
   },
   "outputs": [
    {
     "name": "stdout",
     "output_type": "stream",
     "text": [
      "Generation: 0/1200,\tBest: GhGer1tqyj76TYZQEnNIDgwrtYaeU,\tFitness=2\n",
      "Generation: 100/1200,\tBest: GfwetiqHrlXorWtMC byt12h11PeU,\tFitness=15\n",
      "Generation: 200/1200,\tBest: Gf1etiq rlgorWtMh by 12h11P25,\tFitness=20\n",
      "Generation: 300/1200,\tBest: GB1etiq rlgorithm by 12h11125,\tFitness=24\n",
      "Generation: 400/1200,\tBest: GB1etic Qlgorithm by 12011125,\tFitness=26\n",
      "Generation: 500/1200,\tBest: Ge1etic Qlgorithm by 12011125,\tFitness=27\n",
      "Generation: 600/1200,\tBest: Getetic Algorithm by 12011125,\tFitness=28\n",
      "Generation: 700/1200,\tBest: Genetic Algorithm by 12011125,\tFitness=29\n",
      "Generation: 800/1200,\tBest: Genetic Algorithm by 12011125,\tFitness=29\n",
      "Generation: 900/1200,\tBest: Genetic Algorithm by 12011125,\tFitness=29\n",
      "Generation: 1000/1200,\tBest: Genetic Algorithm by 12011125,\tFitness=29\n",
      "Generation: 1100/1200,\tBest: Genetic Algorithm by 12011125,\tFitness=29\n"
     ]
    },
    {
     "data": {
      "text/plain": [
       "'Genetic Algorithm by 12011125'"
      ]
     },
     "execution_count": 5,
     "metadata": {},
     "output_type": "execute_result"
    }
   ],
   "source": [
    "# now set up the parameters\n",
    "ngen = 1200\n",
    "max_population = 120\n",
    "mutation_rate = 0.08\n",
    "\n",
    "u_case = [chr(x) for x in range(65, 91)]\n",
    "l_case = [chr(x) for x in range(97, 123)]\n",
    "gene_pool = u_case + l_case + [' ']+[str(x) for x in range(0,10)]\n",
    "\n",
    "sid = 12011125 #TODO:  replace this with your own sid\n",
    "target = f\"Genetic Algorithm by {sid}\" \n",
    "alphabet = gene_pool # TODO: fix this: what is the search space now?\n",
    "\n",
    "problem = PhraseGeneration(target, alphabet)\n",
    "\n",
    "# and run it\n",
    "solution, history = genetic_algorithm(problem, ngen, max_population, mutation_rate)\n",
    "solution"
   ]
  },
  {
   "cell_type": "code",
   "execution_count": 95,
   "metadata": {
    "ExecuteTime": {
     "end_time": "2022-11-02T12:47:23.954769Z",
     "start_time": "2022-11-02T12:47:23.815326Z"
    },
    "pycharm": {
     "name": "#%%\n"
    }
   },
   "outputs": [
    {
     "ename": "AttributeError",
     "evalue": "'PhraseGeneration' object has no attribute 'max_fitness'",
     "output_type": "error",
     "traceback": [
      "\u001b[1;31m---------------------------------------------------------------------------\u001b[0m",
      "\u001b[1;31mAttributeError\u001b[0m                            Traceback (most recent call last)",
      "Input \u001b[1;32mIn [95]\u001b[0m, in \u001b[0;36m<cell line: 2>\u001b[1;34m()\u001b[0m\n\u001b[0;32m      1\u001b[0m \u001b[38;5;66;03m# visualize the evolution of the polulation\u001b[39;00m\n\u001b[1;32m----> 2\u001b[0m bins \u001b[38;5;241m=\u001b[39m np\u001b[38;5;241m.\u001b[39mlinspace(\u001b[38;5;241m0\u001b[39m, \u001b[43mproblem\u001b[49m\u001b[38;5;241;43m.\u001b[39;49m\u001b[43mmax_fitness\u001b[49m, problem\u001b[38;5;241m.\u001b[39mmax_fitness\u001b[38;5;241m+\u001b[39m\u001b[38;5;241m1\u001b[39m)\n\u001b[0;32m      3\u001b[0m plot_evolution(history, bins)\n\u001b[0;32m      4\u001b[0m bins\n",
      "\u001b[1;31mAttributeError\u001b[0m: 'PhraseGeneration' object has no attribute 'max_fitness'"
     ]
    }
   ],
   "source": [
    "# visualize the evolution of the polulation\n",
    "bins = np.linspace(0, problem.max_fitness, problem.max_fitness+1)\n",
    "plot_evolution(history, bins)\n",
    "bins"
   ]
  },
  {
   "cell_type": "markdown",
   "metadata": {
    "pycharm": {
     "name": "#%% md\n"
    }
   },
   "source": [
    "## 2. N-Queens Problem\n",
    "\n",
    "It is possible to solve the N-Queens problem with slight modifications.\n",
    "\n",
    "For the problem:\n",
    "\n",
    "1. Direct Representation: placement of queens.\n",
    "2. Search Space: $n^n$, if we don't use any constraints.\n",
    "\n",
    "To use GA:\n",
    "\n",
    "Actually a new fitness function is the minimum modification you need for this problem.\n",
    "\n",
    "Others are alomost the same as the previous problem."
   ]
  },
  {
   "cell_type": "code",
   "execution_count": 45,
   "metadata": {
    "ExecuteTime": {
     "end_time": "2022-11-02T14:42:24.350121Z",
     "start_time": "2022-11-02T14:42:24.305080Z"
    }
   },
   "outputs": [
    {
     "data": {
      "text/plain": [
       "[2, 4, 6]"
      ]
     },
     "execution_count": 45,
     "metadata": {},
     "output_type": "execute_result"
    }
   ],
   "source": [
    "a = [[1,2],[0,4],[3,6]]\n",
    "b = [i[1] for i in a]\n",
    "b"
   ]
  },
  {
   "cell_type": "code",
   "execution_count": 105,
   "metadata": {
    "ExecuteTime": {
     "end_time": "2022-11-02T16:52:01.056304Z",
     "start_time": "2022-11-02T16:52:01.012264Z"
    },
    "pycharm": {
     "name": "#%%\n"
    }
   },
   "outputs": [],
   "source": [
    "class NQueensProblem(GAProblem):\n",
    "    def __init__(self, n):\n",
    "        self.n = n\n",
    "        self.max_fitness =  n*(n-1)//2 # max number if non-attacking pairs\n",
    "\n",
    "        \n",
    "    def init_population(self, pop_size):\n",
    "        population = []\n",
    "        def init_queen(n):\n",
    "            q = []\n",
    "            while len(q) < n:\n",
    "                r = random.randint(0,n-1)\n",
    "                if r not in q:\n",
    "                    q.append(r)\n",
    "            return q\n",
    "                \n",
    "        for _ in range(pop_size):\n",
    "            queens_x = init_queen(self.n)\n",
    "            queens_y = init_queen(self.n)\n",
    "            queens = []\n",
    "            for i in range(n):\n",
    "                queens.append([queens_x[i],queens_y[i]])\n",
    "            queens.sort()\n",
    "            population.append(queens)\n",
    "        \n",
    "        return population\n",
    "    \n",
    "    def fitness(self, queens):\n",
    "        scores = 20\n",
    "        for i in range(len(queens)):\n",
    "            for j in range(i+1, len(queens)):\n",
    "                queen1 = queens[i]\n",
    "                queen2 = queens[j]\n",
    "                if queen1 != queen2 and abs(queen1[0]-queen2[0])!=abs(queen1[1]-queen2[1]) and queen1[1]!=queen2[1]:\n",
    "                    scores += 1\n",
    "        return scores\n",
    "                \n",
    "    def reproduce(self, population, mutation_rate):\n",
    "        pop_size = len(population)\n",
    "        \n",
    "        def get_parents(population):\n",
    "            scores = []\n",
    "            for individual in population:\n",
    "                scores.append(self.fitness(individual))\n",
    "            pick1 = random.randint(0, sum(scores))\n",
    "            pick2 = random.randint(0, sum(scores))\n",
    "            i = 0\n",
    "            while pick1>scores[i]:\n",
    "                pick1 -= scores[i]\n",
    "                i += 1\n",
    "            dad = population[i]\n",
    "            i = 0\n",
    "            while pick2>scores[i]:\n",
    "                pick2 -= scores[i]\n",
    "                i += 1\n",
    "            mom = population[i]\n",
    "            return dad, mom\n",
    "        \n",
    "        dad, mom = get_parents(population)\n",
    "        \n",
    "        def get_children(dad, mom, pop_size):\n",
    "            children = []\n",
    "            for _ in range(pop_size):\n",
    "                index = random.randrange(0, len(dad))\n",
    "                dad[:index].extend(mom[index:])\n",
    "                child = dad\n",
    "        \n",
    "                if random.uniform(0, 1) >= 0.5:\n",
    "                    children.append(child)\n",
    "                    continue\n",
    "                index = random.randrange(0, len(child))\n",
    "                gene = [index, random.randint(0, len(child))]\n",
    "                child[index] = gene\n",
    "                children.append(child)\n",
    "            return children\n",
    "            \n",
    "        children = get_children(dad, mom, pop_size)\n",
    "        \n",
    "        return children\n",
    "        \n",
    "    def replacement(self, old, new):\n",
    "#         l = len(old)\n",
    "#         old.extend(new)\n",
    "#         old.sort()\n",
    "#         return old[:l]\n",
    "        return new\n",
    "\n",
    "    def __repr__(self):\n",
    "        return f\"{self.n}-Queens Problem\""
   ]
  },
  {
   "cell_type": "code",
   "execution_count": 106,
   "metadata": {
    "ExecuteTime": {
     "end_time": "2022-11-02T16:52:02.553662Z",
     "start_time": "2022-11-02T16:52:01.439651Z"
    },
    "pycharm": {
     "name": "#%%\n"
    }
   },
   "outputs": [
    {
     "name": "stdout",
     "output_type": "stream",
     "text": [
      "Generation: 0/1000,\tBest: [[0, 4], [1, 2], [2, 1], [3, 5], [4, 7], [5, 0], [6, 6], [7, 3]],\tFitness=47\n",
      "Generation: 100/1000,\tBest: [[0, 4], [1, 2], [2, 1], [3, 5], [4, 7], [5, 0], [6, 6], [7, 3]],\tFitness=47\n",
      "Generation: 200/1000,\tBest: [[0, 4], [1, 2], [2, 1], [3, 5], [4, 7], [5, 0], [6, 6], [7, 3]],\tFitness=47\n",
      "Generation: 300/1000,\tBest: [[0, 4], [1, 2], [2, 1], [3, 5], [4, 7], [5, 0], [6, 6], [7, 3]],\tFitness=47\n",
      "Generation: 400/1000,\tBest: [[0, 4], [1, 2], [2, 1], [3, 5], [4, 7], [5, 0], [6, 6], [7, 3]],\tFitness=47\n",
      "Generation: 500/1000,\tBest: [[0, 4], [1, 2], [2, 1], [3, 5], [4, 7], [5, 0], [6, 6], [7, 3]],\tFitness=47\n",
      "Generation: 600/1000,\tBest: [[0, 4], [1, 2], [2, 1], [3, 5], [4, 7], [5, 0], [6, 6], [7, 3]],\tFitness=47\n",
      "Generation: 700/1000,\tBest: [[0, 4], [1, 2], [2, 1], [3, 5], [4, 7], [5, 0], [6, 6], [7, 3]],\tFitness=47\n",
      "Generation: 800/1000,\tBest: [[0, 4], [1, 2], [2, 1], [3, 5], [4, 7], [5, 0], [6, 6], [7, 3]],\tFitness=47\n",
      "Generation: 900/1000,\tBest: [[0, 4], [1, 2], [2, 1], [3, 5], [4, 7], [5, 0], [6, 6], [7, 3]],\tFitness=47\n"
     ]
    }
   ],
   "source": [
    "from utils import plot_NQueens\n",
    "ngen = 1000\n",
    "init_size = 120\n",
    "mutation_rate = 0.08\n",
    "\n",
    "n = 8\n",
    "problem = NQueensProblem(n)\n",
    "solution, history = genetic_algorithm(problem, ngen, init_size, mutation_rate)"
   ]
  },
  {
   "cell_type": "code",
   "execution_count": 142,
   "metadata": {
    "ExecuteTime": {
     "end_time": "2022-11-02T17:10:05.972429Z",
     "start_time": "2022-11-02T17:10:05.922383Z"
    }
   },
   "outputs": [],
   "source": [
    "class NQueensProblem2(GAProblem):\n",
    "    def __init__(self, n):\n",
    "        self.n = n\n",
    "        self.max_fitness =  n*(n-1)//2 # max number if non-attacking pairs\n",
    "\n",
    "        \n",
    "    def init_population(self, pop_size):\n",
    "        population = []\n",
    "                \n",
    "        for _ in range(pop_size):\n",
    "            i = 0\n",
    "            queens = []\n",
    "            while i<n:\n",
    "                queen = [random.randint(0, n-1),random.randint(0, n-1)]\n",
    "                if queen not in queens: \n",
    "                    queens.append(queen)\n",
    "                    i += 1\n",
    "            queens.sort()\n",
    "            population.append(queens)\n",
    "        \n",
    "        return population\n",
    "    \n",
    "    def fitness(self, queens):\n",
    "        scores = 0\n",
    "        for i in range(len(queens)):\n",
    "            for j in range(i+1, len(queens)):\n",
    "                queen1 = queens[i]\n",
    "                queen2 = queens[j]\n",
    "                if queen1 != queen2 and abs(queen1[0]-queen2[0])!=abs(queen1[1]-queen2[1]) and queen1[0]!=queen2[0] and queen1[1]!=queen2[1]:\n",
    "                    scores += 1\n",
    "        return scores\n",
    "                \n",
    "    def reproduce(self, population, mutation_rate):\n",
    "        pop_size = len(population)\n",
    "        \n",
    "        def get_parents(population):\n",
    "            scores = []\n",
    "            for individual in population:\n",
    "                scores.append(self.fitness(individual))\n",
    "            pick1 = random.randint(0, sum(scores))\n",
    "            pick2 = random.randint(0, sum(scores))\n",
    "            i = 0\n",
    "            while pick1>scores[i]:\n",
    "                pick1 -= scores[i]\n",
    "                i += 1\n",
    "            dad = population[i]\n",
    "            i = 0\n",
    "            while pick2>scores[i]:\n",
    "                pick2 -= scores[i]\n",
    "                i += 1\n",
    "            mom = population[i]\n",
    "            return dad, mom\n",
    "        \n",
    "        dad, mom = get_parents(population)\n",
    "        \n",
    "        def get_children(dad, mom, pop_size):\n",
    "            children = []\n",
    "            for _ in range(pop_size):\n",
    "                index = random.randrange(0, len(dad))\n",
    "                dad[:index].extend(mom[index:])\n",
    "                child = dad\n",
    "                child.sort()\n",
    "        \n",
    "                if random.uniform(0, 1) >= 0.2:\n",
    "                    children.append(child)\n",
    "                    continue\n",
    "                index = random.randrange(0, len(child)-1)\n",
    "                gene = [index, random.randint(0, len(child)-1)]\n",
    "                child[index] = gene\n",
    "                children.append(child)\n",
    "            return children\n",
    "            \n",
    "        children = get_children(dad, mom, pop_size)\n",
    "        \n",
    "        return children\n",
    "        \n",
    "    def replacement(self, old, new):\n",
    "#         l = len(old)\n",
    "#         old.extend(new)\n",
    "#         scores = []\n",
    "#         for o in old:\n",
    "#             scores.append(self.fitness(o))\n",
    "#         arg = np.argsort(scores)\n",
    "#         old = np.array(old)\n",
    "#         old = old[arg[-l:]]\n",
    "#         return old.tolist()\n",
    "        return new\n",
    "\n",
    "    def __repr__(self):\n",
    "        return f\"{self.n}-Queens Problem\""
   ]
  },
  {
   "cell_type": "code",
   "execution_count": 143,
   "metadata": {
    "ExecuteTime": {
     "end_time": "2022-11-02T17:14:09.903261Z",
     "start_time": "2022-11-02T17:10:06.178617Z"
    }
   },
   "outputs": [
    {
     "name": "stdout",
     "output_type": "stream",
     "text": [
      "Generation: 0/50000,\tBest: [[0, 0], [1, 2], [1, 4], [2, 7], [3, 5], [4, 3], [6, 5], [7, 0]],\tFitness=23\n",
      "Generation: 1000/50000,\tBest: [[0, 4], [1, 4], [2, 0], [3, 0], [4, 3], [5, 5], [6, 7], [6, 7]],\tFitness=25\n",
      "Generation: 2000/50000,\tBest: [[0, 4], [1, 4], [2, 0], [3, 0], [4, 3], [5, 5], [6, 7], [6, 7]],\tFitness=25\n",
      "Generation: 3000/50000,\tBest: [[0, 4], [1, 4], [2, 0], [3, 0], [4, 3], [5, 5], [6, 7], [6, 7]],\tFitness=25\n",
      "Generation: 4000/50000,\tBest: [[0, 4], [1, 4], [2, 0], [3, 0], [4, 3], [5, 5], [6, 7], [6, 7]],\tFitness=25\n",
      "Generation: 5000/50000,\tBest: [[0, 4], [1, 4], [2, 0], [3, 0], [4, 3], [5, 5], [6, 7], [6, 7]],\tFitness=25\n",
      "Generation: 6000/50000,\tBest: [[0, 4], [1, 4], [2, 0], [3, 0], [4, 3], [5, 5], [6, 7], [6, 7]],\tFitness=25\n",
      "Generation: 7000/50000,\tBest: [[0, 4], [1, 4], [2, 0], [3, 0], [4, 3], [5, 5], [6, 7], [6, 7]],\tFitness=25\n",
      "Generation: 8000/50000,\tBest: [[0, 4], [1, 4], [2, 0], [3, 0], [4, 3], [5, 5], [6, 7], [6, 7]],\tFitness=25\n",
      "Generation: 9000/50000,\tBest: [[0, 4], [1, 6], [2, 1], [3, 3], [4, 6], [5, 0], [6, 2], [6, 7]],\tFitness=26\n",
      "Generation: 10000/50000,\tBest: [[0, 4], [1, 6], [2, 1], [3, 3], [4, 6], [5, 0], [6, 2], [6, 7]],\tFitness=26\n",
      "Generation: 11000/50000,\tBest: [[0, 4], [1, 6], [2, 1], [3, 3], [4, 6], [5, 0], [6, 2], [6, 7]],\tFitness=26\n",
      "Generation: 12000/50000,\tBest: [[0, 4], [1, 6], [2, 1], [3, 3], [4, 6], [5, 0], [6, 2], [6, 7]],\tFitness=26\n",
      "Generation: 13000/50000,\tBest: [[0, 4], [1, 6], [2, 1], [3, 3], [4, 6], [5, 0], [6, 2], [6, 7]],\tFitness=26\n",
      "Generation: 14000/50000,\tBest: [[0, 4], [1, 6], [2, 1], [3, 3], [4, 6], [5, 0], [6, 2], [6, 7]],\tFitness=26\n",
      "Generation: 15000/50000,\tBest: [[0, 4], [1, 6], [2, 1], [3, 3], [4, 6], [5, 0], [6, 2], [6, 7]],\tFitness=26\n",
      "Generation: 16000/50000,\tBest: [[0, 4], [1, 6], [2, 1], [3, 3], [4, 6], [5, 0], [6, 2], [6, 7]],\tFitness=26\n",
      "Generation: 17000/50000,\tBest: [[0, 4], [1, 6], [2, 1], [3, 3], [4, 6], [5, 0], [6, 2], [6, 7]],\tFitness=26\n",
      "Generation: 18000/50000,\tBest: [[0, 4], [1, 6], [2, 1], [3, 3], [4, 6], [5, 0], [6, 2], [6, 7]],\tFitness=26\n",
      "Generation: 19000/50000,\tBest: [[0, 4], [1, 6], [2, 1], [3, 3], [4, 6], [5, 0], [6, 2], [6, 7]],\tFitness=26\n",
      "Generation: 20000/50000,\tBest: [[0, 4], [1, 1], [2, 5], [3, 0], [4, 6], [5, 3], [6, 7], [6, 7]],\tFitness=27\n",
      "Generation: 21000/50000,\tBest: [[0, 4], [1, 1], [2, 5], [3, 0], [4, 6], [5, 3], [6, 7], [6, 7]],\tFitness=27\n",
      "Generation: 22000/50000,\tBest: [[0, 4], [1, 1], [2, 5], [3, 0], [4, 6], [5, 3], [6, 7], [6, 7]],\tFitness=27\n",
      "Generation: 23000/50000,\tBest: [[0, 4], [1, 1], [2, 5], [3, 0], [4, 6], [5, 3], [6, 7], [6, 7]],\tFitness=27\n",
      "Generation: 24000/50000,\tBest: [[0, 4], [1, 1], [2, 5], [3, 0], [4, 6], [5, 3], [6, 7], [6, 7]],\tFitness=27\n",
      "Generation: 25000/50000,\tBest: [[0, 4], [1, 1], [2, 5], [3, 0], [4, 6], [5, 3], [6, 7], [6, 7]],\tFitness=27\n",
      "Generation: 26000/50000,\tBest: [[0, 4], [1, 1], [2, 5], [3, 0], [4, 6], [5, 3], [6, 7], [6, 7]],\tFitness=27\n",
      "Generation: 27000/50000,\tBest: [[0, 4], [1, 1], [2, 5], [3, 0], [4, 6], [5, 3], [6, 7], [6, 7]],\tFitness=27\n",
      "Generation: 28000/50000,\tBest: [[0, 4], [1, 1], [2, 5], [3, 0], [4, 6], [5, 3], [6, 7], [6, 7]],\tFitness=27\n",
      "Generation: 29000/50000,\tBest: [[0, 4], [1, 1], [2, 5], [3, 0], [4, 6], [5, 3], [6, 7], [6, 7]],\tFitness=27\n",
      "Generation: 30000/50000,\tBest: [[0, 4], [1, 1], [2, 5], [3, 0], [4, 6], [5, 3], [6, 7], [6, 7]],\tFitness=27\n",
      "Generation: 31000/50000,\tBest: [[0, 4], [1, 1], [2, 5], [3, 0], [4, 6], [5, 3], [6, 7], [6, 7]],\tFitness=27\n",
      "Generation: 32000/50000,\tBest: [[0, 4], [1, 1], [2, 5], [3, 0], [4, 6], [5, 3], [6, 7], [6, 7]],\tFitness=27\n",
      "Generation: 33000/50000,\tBest: [[0, 4], [1, 1], [2, 5], [3, 0], [4, 6], [5, 3], [6, 7], [6, 7]],\tFitness=27\n",
      "Generation: 34000/50000,\tBest: [[0, 4], [1, 1], [2, 5], [3, 0], [4, 6], [5, 3], [6, 7], [6, 7]],\tFitness=27\n",
      "Generation: 35000/50000,\tBest: [[0, 4], [1, 1], [2, 5], [3, 0], [4, 6], [5, 3], [6, 7], [6, 7]],\tFitness=27\n",
      "Generation: 36000/50000,\tBest: [[0, 4], [1, 1], [2, 5], [3, 0], [4, 6], [5, 3], [6, 7], [6, 7]],\tFitness=27\n",
      "Generation: 37000/50000,\tBest: [[0, 4], [1, 1], [2, 5], [3, 0], [4, 6], [5, 3], [6, 7], [6, 7]],\tFitness=27\n",
      "Generation: 38000/50000,\tBest: [[0, 4], [1, 1], [2, 5], [3, 0], [4, 6], [5, 3], [6, 7], [6, 7]],\tFitness=27\n",
      "Generation: 39000/50000,\tBest: [[0, 4], [1, 1], [2, 5], [3, 0], [4, 6], [5, 3], [6, 7], [6, 7]],\tFitness=27\n",
      "Generation: 40000/50000,\tBest: [[0, 4], [1, 1], [2, 5], [3, 0], [4, 6], [5, 3], [6, 7], [6, 7]],\tFitness=27\n",
      "Generation: 41000/50000,\tBest: [[0, 4], [1, 1], [2, 5], [3, 0], [4, 6], [5, 3], [6, 7], [6, 7]],\tFitness=27\n",
      "Generation: 42000/50000,\tBest: [[0, 4], [1, 1], [2, 5], [3, 0], [4, 6], [5, 3], [6, 7], [6, 7]],\tFitness=27\n",
      "Generation: 43000/50000,\tBest: [[0, 4], [1, 1], [2, 5], [3, 0], [4, 6], [5, 3], [6, 7], [6, 7]],\tFitness=27\n",
      "Generation: 44000/50000,\tBest: [[0, 4], [1, 1], [2, 5], [3, 0], [4, 6], [5, 3], [6, 7], [6, 7]],\tFitness=27\n",
      "Generation: 45000/50000,\tBest: [[0, 4], [1, 1], [2, 5], [3, 0], [4, 6], [5, 3], [6, 7], [6, 7]],\tFitness=27\n",
      "Generation: 46000/50000,\tBest: [[0, 4], [1, 1], [2, 5], [3, 0], [4, 6], [5, 3], [6, 7], [6, 7]],\tFitness=27\n",
      "Generation: 47000/50000,\tBest: [[0, 4], [1, 1], [2, 5], [3, 0], [4, 6], [5, 3], [6, 7], [6, 7]],\tFitness=27\n",
      "Generation: 48000/50000,\tBest: [[0, 4], [1, 1], [2, 5], [3, 0], [4, 6], [5, 3], [6, 7], [6, 7]],\tFitness=27\n",
      "Generation: 49000/50000,\tBest: [[0, 4], [1, 1], [2, 5], [3, 0], [4, 6], [5, 3], [6, 7], [6, 7]],\tFitness=27\n"
     ]
    }
   ],
   "source": [
    "from utils import plot_NQueens\n",
    "ngen = 50000\n",
    "init_size = 120\n",
    "mutation_rate = 0.08\n",
    "\n",
    "n = 8\n",
    "problem = NQueensProblem2(n)\n",
    "solution, history = genetic_algorithm(problem, ngen, init_size, mutation_rate)"
   ]
  },
  {
   "cell_type": "code",
   "execution_count": 141,
   "metadata": {
    "ExecuteTime": {
     "end_time": "2022-11-02T17:09:03.064336Z",
     "start_time": "2022-11-02T17:09:02.795091Z"
    },
    "pycharm": {
     "name": "#%%\n"
    }
   },
   "outputs": [
    {
     "name": "stderr",
     "output_type": "stream",
     "text": [
      "F:\\BaiduNetdiskWorkspace\\pythonCode\\ai\\Practice7_DDL1111_\\Practice7\\utils.py:30: UserWarning: This figure includes Axes that are not compatible with tight_layout, so results might be incorrect.\n",
      "  fig.tight_layout()\n"
     ]
    },
    {
     "data": {
      "image/png": "[encoded data removed]",
      "text/plain": [
       "<Figure size 700x700 with 9 Axes>"
      ]
     },
     "metadata": {},
     "output_type": "display_data"
    }
   ],
   "source": [
    "# Example of how to use this function\n",
    "# plot_NQueens([4, 2, 0, 6, 1, 7, 5, 3])\n",
    "# replace the parameter with your own results\n",
    "solution1 = [i[1] for i in solution]\n",
    "plot_NQueens(solution1)"
   ]
  },
  {
   "cell_type": "code",
   "execution_count": null,
   "metadata": {
    "pycharm": {
     "name": "#%%\n"
    }
   },
   "outputs": [],
   "source": [
    "# Visualize the evolution of the polulation\n",
    "bins = np.linspace(0, problem.max_fitness, problem.max_fitness)\n",
    "plot_evolution(history, bins)"
   ]
  }
 ],
 "metadata": {
  "interpreter": {
   "hash": "fb94abd67aa002aa187ead1d4120a8ec4bfee3e4c9494aaf1e01cee1e01ca26c"
  },
  "kernelspec": {
   "display_name": "Python 3 (ipykernel)",
   "language": "python",
   "name": "python3"
  },
  "language_info": {
   "codemirror_mode": {
    "name": "ipython",
    "version": 3
   },
   "file_extension": ".py",
   "mimetype": "text/x-python",
   "name": "python",
   "nbconvert_exporter": "python",
   "pygments_lexer": "ipython3",
   "version": "3.9.13"
  }
 },
 "nbformat": 4,
 "nbformat_minor": 2
}
