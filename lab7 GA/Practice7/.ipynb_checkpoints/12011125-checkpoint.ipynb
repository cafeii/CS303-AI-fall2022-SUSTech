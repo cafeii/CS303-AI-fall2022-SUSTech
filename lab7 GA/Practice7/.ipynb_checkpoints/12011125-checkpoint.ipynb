{
 "cells": [
  {
   "cell_type": "code",
   "execution_count": 4,
   "metadata": {
    "ExecuteTime": {
     "end_time": "2022-11-02T12:31:37.086488Z",
     "start_time": "2022-11-02T12:31:35.849226Z"
    },
    "pycharm": {
     "name": "#%%\n"
    }
   },
   "outputs": [],
   "source": [
    "%load_ext autoreload\n",
    "%autoreload 2\n",
    "import random\n",
    "import numpy as np\n",
    "import matplotlib.pyplot as plt\n",
    "from utils import plot_NQueens, plot_evolution"
   ]
  },
  {
   "cell_type": "markdown",
   "metadata": {
    "pycharm": {
     "name": "#%% md\n"
    }
   },
   "source": [
    "# Local Search: Genetic Algorithm\n",
    "\n",
    "## 1.Genrating Phrases\n",
    "\n",
    "In this section we consider a toy problem: generating a target phrases (e.g. \"genetic algorithm\") from an initial polupation of random strings. Assume the length of the target is known.\n",
    "\n",
    "Problem Formulation: \n",
    "\n",
    "1. Direct Representation: just strings.\n",
    "2. Exponential Search Space: $m^l$ where $m$ is the size of the alphabet (set of characters in our interest) and $l$ is the length of the string.\n",
    "\n",
    "Now that we want to solve it with GA:\n",
    "1. Chromesome: directly use the string itself.\n",
    "2. Fitness: how match/close an individual is to the target.\n",
    "3. Mating: combine two strings in someway to generate a new one.\n",
    "\n",
    "The following cells will walk you through this problem to show the basic idea of GA"
   ]
  },
  {
   "cell_type": "code",
   "execution_count": 5,
   "metadata": {
    "ExecuteTime": {
     "end_time": "2022-11-02T12:31:37.502547Z",
     "start_time": "2022-11-02T12:31:37.383267Z"
    },
    "pycharm": {
     "name": "#%%\n"
    }
   },
   "outputs": [
    {
     "data": {
      "text/plain": [
       "['hfsGChuyxFOatLnpK',\n",
       " 'MWFuqVsRvam SiikR',\n",
       " 'PjzPwcYdCQOTaFkXy',\n",
       " 'Dx wtMATSjjlpxqzm',\n",
       " 'rnrZUa WjQNDdSwsx',\n",
       " 'iSJRyHqQ zGSw VJf',\n",
       " 'xf IzS r bEcZHxxE',\n",
       " 'jnJgn OBZViKRrlRw',\n",
       " 'dKPvgrrWwGwuAtxeX',\n",
       " 'jjXZJWCqVymA LwZy']"
      ]
     },
     "execution_count": 5,
     "metadata": {},
     "output_type": "execute_result"
    }
   ],
   "source": [
    "# setting up the problem\n",
    "target = 'Genetic Algorithm'\n",
    "u_case = [chr(x) for x in range(65, 91)]\n",
    "l_case = [chr(x) for x in range(97, 123)]\n",
    "gene_pool = u_case + l_case + [' '] # all English chracters and white space\n",
    "\n",
    "def init_population(pop_size, gene_pool, state_length):\n",
    "    \"\"\"\n",
    "    Randomly initialize a population for genetic algorithm\n",
    "        pop_size  :  Number of individuals in population\n",
    "        gene_pool   :  List of possible values for individuals\n",
    "        state_length:  The length of each individual\n",
    "    \"\"\"\n",
    "\n",
    "    population = []\n",
    "    for _ in range(pop_size):\n",
    "        new_individual = \"\".join(random.choices(gene_pool, k=state_length))\n",
    "        population.append(new_individual)\n",
    "\n",
    "    return population\n",
    "\n",
    "# test\n",
    "init_pop = init_population(10, gene_pool, len(target))\n",
    "init_pop"
   ]
  },
  {
   "cell_type": "code",
   "execution_count": 6,
   "metadata": {
    "ExecuteTime": {
     "end_time": "2022-11-02T12:31:38.446582Z",
     "start_time": "2022-11-02T12:31:38.356800Z"
    }
   },
   "outputs": [
    {
     "data": {
      "text/plain": [
       "list"
      ]
     },
     "execution_count": 6,
     "metadata": {},
     "output_type": "execute_result"
    }
   ],
   "source": [
    "type(init_pop)"
   ]
  },
  {
   "cell_type": "code",
   "execution_count": 7,
   "metadata": {
    "ExecuteTime": {
     "end_time": "2022-11-02T12:31:39.519064Z",
     "start_time": "2022-11-02T12:31:39.383115Z"
    },
    "pycharm": {
     "name": "#%%\n"
    }
   },
   "outputs": [
    {
     "data": {
      "text/plain": [
       "5"
      ]
     },
     "execution_count": 7,
     "metadata": {},
     "output_type": "execute_result"
    }
   ],
   "source": [
    "def fitness_fn(target, sample):\n",
    "    # TODO: evaluate how close *sample* is to the target\n",
    "    \n",
    "    # 评估距离目标的距离（分数\n",
    "    \n",
    "    score = 0\n",
    "    \n",
    "    \n",
    "    for i in range(len(sample)):\n",
    "        if sample[i] in target: \n",
    "            score += 1\n",
    "        if sample[i] == target[i]:\n",
    "            score += 10\n",
    "    return score\n",
    "    raise NotImplementedError()\n",
    "    \n",
    "# test\n",
    "fitness_fn(target, init_pop[0])"
   ]
  },
  {
   "cell_type": "code",
   "execution_count": 8,
   "metadata": {
    "ExecuteTime": {
     "end_time": "2022-11-02T12:31:41.787532Z",
     "start_time": "2022-11-02T12:31:41.665212Z"
    },
    "pycharm": {
     "name": "#%%\n"
    }
   },
   "outputs": [
    {
     "data": {
      "text/plain": [
       "['PjzPwcYdCQOTaFkXy', 'rnrZUa WjQNDdSwsx']"
      ]
     },
     "execution_count": 8,
     "metadata": {},
     "output_type": "execute_result"
    }
   ],
   "source": [
    "def select(r, population, fitness_fn,target):\n",
    "    \"\"\"\n",
    "    TODO: select *r* samples from *population*\n",
    "    the simplest choice is to sample from *population* with each individual weighted by its fitness\n",
    "    \"\"\"\n",
    "    scores = []\n",
    "    for i in population:\n",
    "        scores.append(fitness_fn(i, target))\n",
    "    scores = np.array(scores)\n",
    "    scores = np.argsort(scores)\n",
    "    population = np.array(population)\n",
    "    return population[scores[:r]].tolist()\n",
    "    \n",
    "    #选择最好的父亲和母亲\n",
    "    \n",
    "    raise NotImplementedError()\n",
    "\n",
    "# test\n",
    "parents = select(2, init_pop, fitness_fn,target)\n",
    "parents"
   ]
  },
  {
   "cell_type": "code",
   "execution_count": 1,
   "metadata": {
    "ExecuteTime": {
     "end_time": "2022-11-02T12:31:23.076495Z",
     "start_time": "2022-11-02T12:31:22.413741Z"
    },
    "pycharm": {
     "name": "#%%\n"
    }
   },
   "outputs": [
    {
     "ename": "NameError",
     "evalue": "name 'parents' is not defined",
     "output_type": "error",
     "traceback": [
      "\u001b[1;31m---------------------------------------------------------------------------\u001b[0m",
      "\u001b[1;31mNameError\u001b[0m                                 Traceback (most recent call last)",
      "Input \u001b[1;32mIn [1]\u001b[0m, in \u001b[0;36m<cell line: 31>\u001b[1;34m()\u001b[0m\n\u001b[0;32m     28\u001b[0m     \u001b[38;5;28;01mreturn\u001b[39;00m x[:c] \u001b[38;5;241m+\u001b[39m new_gene \u001b[38;5;241m+\u001b[39m x[c \u001b[38;5;241m+\u001b[39m \u001b[38;5;241m1\u001b[39m:]\n\u001b[0;32m     30\u001b[0m \u001b[38;5;66;03m# test\u001b[39;00m\n\u001b[1;32m---> 31\u001b[0m child \u001b[38;5;241m=\u001b[39m mutate(recombine(\u001b[38;5;241m*\u001b[39m\u001b[43mparents\u001b[49m), gene_pool, \u001b[38;5;241m0.1\u001b[39m)\n\u001b[0;32m     32\u001b[0m child\n",
      "\u001b[1;31mNameError\u001b[0m: name 'parents' is not defined"
     ]
    }
   ],
   "source": [
    "def recombine(x, y):\n",
    "    \"\"\"\n",
    "    TODO: combine two parents to produce an offspring\n",
    "    \"\"\"\n",
    "    r = random.randrange(0,len(x)-1)\n",
    "    res = x[0:r]\n",
    "    res += y[r:]\n",
    "    #把父亲和母亲随机截取然后拼接，得到子代\n",
    "    return res\n",
    "    raise NotImplementedError()\n",
    "\n",
    "def mutate(x, gene_pool, pmut):\n",
    "    \"\"\"\n",
    "    apply mutation to *x* by randomly replacing one of its gene from *gene_pool*\n",
    "    \"\"\"\n",
    "    \n",
    "    #变异，如果变异了就把某片段修改\n",
    "    \n",
    "    if random.uniform(0, 1) >= pmut:\n",
    "        return x\n",
    "\n",
    "    n = len(x)\n",
    "    g = len(gene_pool)\n",
    "    c = random.randrange(0, n)\n",
    "    r = random.randrange(0, g)\n",
    "\n",
    "    new_gene = gene_pool[r]\n",
    "    return x[:c] + new_gene + x[c + 1:]\n",
    "\n",
    "# test\n",
    "child = mutate(recombine(*parents), gene_pool, 0.1)\n",
    "child"
   ]
  },
  {
   "cell_type": "code",
   "execution_count": 73,
   "metadata": {
    "ExecuteTime": {
     "end_time": "2022-11-02T12:18:12.033197Z",
     "start_time": "2022-11-02T12:18:11.907870Z"
    },
    "pycharm": {
     "name": "#%%\n"
    }
   },
   "outputs": [],
   "source": [
    "# now refactor things into a *Problem* abstraction\n",
    "# you can directly reuse what you have implemented above\n",
    "from abc import ABC, abstractmethod\n",
    "\n",
    "\n",
    "\n",
    "def mutate(x, gene_pool, pmut):\n",
    "    if random.uniform(0, 1) >= pmut:\n",
    "        return x\n",
    "\n",
    "    n = len(x)\n",
    "    g = len(gene_pool)\n",
    "    c = random.randrange(0, n)\n",
    "    r = random.randrange(0, g)\n",
    "\n",
    "    new_gene = gene_pool[r]\n",
    "    return x[:c] + new_gene + x[c + 1:]\n",
    "\n",
    "class GAProblem(ABC):\n",
    "    @abstractmethod\n",
    "    def init_population(self, pop_size): pass\n",
    "\n",
    "    @abstractmethod\n",
    "    def fitness(self, sample): pass\n",
    "\n",
    "    @abstractmethod\n",
    "    def reproduce(self, population): pass\n",
    "\n",
    "    @abstractmethod\n",
    "    def replacement(self, old, new): pass\n",
    "\n",
    "class PhraseGeneration(GAProblem):\n",
    "    def __init__(self, target, alphabet):\n",
    "        self.target = target\n",
    "        self.alphabet = alphabet\n",
    "\n",
    "    def init_population(self, pop_size):\n",
    "        # raise NotImplementedError()\n",
    "        return init_population(pop_size, self.alphabet, len(self.target))\n",
    "\n",
    "    def fitness(self, sample):\n",
    "        # TODO: evaluate how close *sample* is to the target\n",
    "        \n",
    "        score = 0\n",
    "        for i in range(len(sample)):\n",
    "            if sample[i] == self.target[i]:\n",
    "                score += 1\n",
    "        return score\n",
    "        \n",
    "        raise NotImplementedError()\n",
    "        #前面的东西，在这里写好一点\n",
    "        \n",
    "    def select(self,r, population, fitness_fn):\n",
    "        scores = []\n",
    "        for i in population:\n",
    "            scores.append(fitness_fn(i))\n",
    "        scores = np.array(scores)\n",
    "        scores = np.argsort(scores)\n",
    "        population = np.array(population)\n",
    "        return population[scores[-r:]]\n",
    "        \n",
    "    def recombine(self,x, y):\n",
    "        r = random.randrange(0,len(x))\n",
    "        res = x[0:r]\n",
    "        res += y[r:]\n",
    "        return res\n",
    "    \n",
    "    def reproduce(self, population, mutation_rate):\n",
    "        \n",
    "        child = mutate(self.recombine(*self.select(2, population, self.fitness)), gene_pool, 0.1)\n",
    "        return child\n",
    "        raise NotImplementedError()\n",
    "    \n",
    "    def replacement(self, old, new):\n",
    "        \n",
    "        return new\n",
    "\n",
    "def genetic_algorithm(\n",
    "        problem: GAProblem, \n",
    "        ngen, n_init_size, mutation_rate, \n",
    "        log_intervel=100\n",
    "    ):\n",
    "\n",
    "    population = problem.init_population(n_init_size)\n",
    "    best = max(population, key=problem.fitness)\n",
    "    history = [(0, list(map(problem.fitness, population)))]\n",
    "\n",
    "    for gen in range(ngen):\n",
    "        next_gen    = problem.reproduce(population, mutation_rate)\n",
    "        population  = problem.replacement(population, next_gen)\n",
    "\n",
    "        if gen % log_intervel == 0:\n",
    "            current_best = max(population, key=problem.fitness)\n",
    "            if problem.fitness(current_best) > problem.fitness(best): best = current_best\n",
    "            print(f\"Generation: {gen}/{ngen},\\tBest: {best},\\tFitness={problem.fitness(best)}\")         \n",
    "            history.append((gen, list(map(problem.fitness, population))))\n",
    "    \n",
    "    history.append((ngen-1, list(map(problem.fitness, population))))\n",
    "    return best, history"
   ]
  },
  {
   "cell_type": "code",
   "execution_count": 74,
   "metadata": {
    "ExecuteTime": {
     "end_time": "2022-11-02T12:18:12.750764Z",
     "start_time": "2022-11-02T12:18:12.561562Z"
    },
    "pycharm": {
     "name": "#%%\n"
    }
   },
   "outputs": [
    {
     "name": "stdout",
     "output_type": "stream",
     "text": [
      "['cg3inuIlhE4jkQswKVfwWVvX6AKk0' 'AwX7QHhjjW NjNHyxORvw5ELxUT W'\n",
      " 'I9Y L0JkIpgNoH1T1JFRz49Jn3TI8' 'nNEFkSH1VVRAMr9aoUTwJCLye6ZES'\n",
      " 'ATWcybKyfCg2vdegJkbPN45f1MSrY' '2hnIPn7XrZ0AiUc1rNQa9uhN52BhF'\n",
      " 'J9JxFNVVltLJN9wIBxUwdmmMkyDn1' ' 22tFu RQhbfohNxP8bvD6aqfBcjq'\n",
      " 'CCV50fWedn2KLhzlj0tOTfmSOGKmf' '7sWMjmuSFIGl7pKrDuNh2hRvxkX0j'\n",
      " 'Qq3y bKfr52GYxIlxuB6pUJmnOuzV' 'e0ThMr2Bt8nq75i2ivs7JwGsa5EJi'\n",
      " 'MzLgSHzwdJ4qBjNd6h1YJp8RvBVun' 'wSCsRP67DOmSD7J2oCJukWAH10nXs'\n",
      " 'fUIfy71eQvzSyZai ek3synK9RDh0' 'viVdN6pxEwbyqD5sEuLfjHImIQCtI'\n",
      " 'zjabowumDEyz4ktJxmmVJyWUgD3ik' 'rzPodhhBeTKl1pvVjpSYpiA5IRic3'\n",
      " 'V5HdfEVJN77eeBn YzjddAhOCQ 5Q' 'cjEhQX2hRy4vmhX1HFtAkIDAfa9bl'\n",
      " 'FPLvDlzwPf9kxj7Nqm zQFhs25g6P' 'DTkoS42raTzPxIKb96vtnSjEvQJIY'\n",
      " 'Xs tyQhRUlVxuKTLIcajaWy1F5oqr' 'd FAoyOwcUzVBhe1nmbNg1Se 4Ypo'\n",
      " 'cafkcGywhG6f Ch3JKFDsV7uD6GvW' 'HVHKjSyCwFY1HrUrHUGZFALtugaww'\n",
      " '6U3DDFbUXeXgeXnlUsj7pdtXYwmGf' 'FJZAdC8dp3XuwJdGO15kZV3VgLz42'\n",
      " 'wiEAN ifnrj3NIAt3HW Itjs7eiQm' 'z9OfQKtxQUpu6S46GmAhAaSuGk8DJ'\n",
      " 'quqmQ vw8iMkW1RQWcb2kUTeDaukU' '1wYrbD0R1JPxy1XBNJCEWpaNEJHBF'\n",
      " 'dIStQMnlF OO5ISC1fkj4CXgmwYNx' 'cG0huiYN4EkqwaYfc1DjIVrZqBXwg'\n",
      " 'KM1LdRctdNPln5H8ofqLhWAxhcW M' 'KJiTeJ6gzzb3yoEOhhiJpxAXJn3Nb'\n",
      " '57bZ0 9PNOTyh7EK Ugv7z4yFej89' 'EbLP2UwYWSEvoq0YK6EXz8svJWsHp'\n",
      " 'rEll7Dlm 0l34Si5nXaKUl3hqEcK1' '6dLUasfZIvkvgsatZMRPrwpPa8efM'\n",
      " 'iAcLKZZRvVKtO9kfZBW8GPt2jTmAH' 'GC0Oo9WjDwmrZxXLuPjLmj4OJqFc5'\n",
      " 'sCnNqY151iB9QSRzbfM4rP4VjG6Ur' '53fgjFCBzK4YG4Hl8JTTPtJsT1YDR'\n",
      " 'Mzl6PxMPVPaD8uIw1PqmD7LrKHUIG' 'Yha9Z0rslDwXDW24uuwuQ4A28vUik'\n",
      " 'PNhhSpq8jDrCdf7ZHvANZMK1uaVXb' 'eQ5zNVKXmttyi63uPpY Rd2i3t79b'\n",
      " 'TXwQGzhU J2y19yl7tR614F1mn7Ck' 'heSC au9O7rUbPqY6TwUacy4Bjkwp'\n",
      " 'pTMAZ584ueEO4QwZftqvMeVv9nrNT' 'PByKvamtqDtyA BKayNd2dC8uRa19'\n",
      " '0Y5ZSdFis7gdSinaRuKTAm fkfIRw' '09JDmEWwISRBMDFTzTMjl nhny5db'\n",
      " 'cgy0C4aPHRNA4D8tBHA0 2g55Dw6i' 'eX7vRX8xksfRpt4RxTCiAJISyYOre'\n",
      " 'ZmrkU2aYvGsIE2e8yrSdnkRX HTSh' 'rrDQxBx3jrWvKP4qvAScHziS6QW7V'\n",
      " 'UL8GY9yWrW9AfoiM0RKPFUI7w2doD' 'jCg H80vt5xBhtakaehTEad6calNP'\n",
      " 'n9j1WYuVpzWAB JcwzFKb8biLaQWz' 'oBjqx2PAUHy7h16bcyGdWA2p1geBB'\n",
      " '2SFwrSubsiqdkcpGdLh1hoEnG5zUF' '7aIQn05Vd0XuRVxZ83kBSDQWmAqN0'\n",
      " 'W6OGMTqnfXKRf2n0nUKA8VpGPNEub' 'W6ZQbbDP4ZMKchjTlTPuaDEPYTBmF'\n",
      " 'Tom8jEzJaNrPzWZEUUKDMw8KrSoVV' 'osJ2BNXzJY5tNzCqzBLIXFu7XnsJF'\n",
      " 'AJG9fPgMcIVPuY4eGIZC5XkXdFsNZ' 'vibPt5Ry BvqCd4QeUqLMLy9MvUaQ'\n",
      " 'ICCskrCeKKWlz5w5s8QvXb7iCWrpe' '6AsHJkrRsHo xyVzHXXB4BygSrtrI'\n",
      " 's3bu82YH8bdlTdgNmZAIPMVuCCFUC' '3qVhEkzesCNa59LcsHlJLVXSchQL0'\n",
      " 'soWfGmBXRsqkaY5BHyVUmmfcUwdUt' 'kwNU0hWokmswojJrXLq3dNlkZty1j'\n",
      " 'uKf74OIkhgEyiqgZczhX1igIWHRUg' 'eYVk4xE dmOfcu0XC6pd6YwjWWjgV'\n",
      " 'MM1emQc0Z1MBYp4x5p5FHAsh9aaXk' 'hgt6J56gmuF9gdZxle46A03ZPUitR'\n",
      " '1V1qZFFkg0QB7q8IXeLf07GVBbaHt' 'vTysZOdia3kMe1WgSbxDhWQdr9HwA'\n",
      " '5EKkKCHZ9fo33r7OznBnj7rTLYX y' 'o1B91RJgrDv3m42UXIerOs9zfGlag'\n",
      " 'pXAmu DgVAskPS4J5DZAfLpwoVcqJ' 'U6VTnUSy T7iVgSjQ7 yOFLq1dRFA'\n",
      " 'KnlVBrU8aWIJCGYHg6veUTE41e3SG' 'NT0KFCWJSahG70Hs4frfhtpKwDggc'\n",
      " 'AVzxGGuyMP52zS4AA8sBisDxEWSrP' 'teWhwwe6uSij9ABUOXTUHziRltNWA'\n",
      " 'MYmZ1vLg4ns92vN2Qbh1HskbGSjr8' 'mTOc79AmFJ1OvHlYg6U 3H647ozI6'\n",
      " 'MXTxHmnOQwJFJAC7EeAu2uEt8EXe3' 'AsQOII8I849plaTk1lfiA2djYnIxl'\n",
      " '2I3xmNBMvO6hmwhbW4yXJ6yDUqzOR' '3vPV99ybs4sRYtb7LOvL0jnCP3o7c'\n",
      " 'jQ5RCw5Dwzn44e3RRnTJCvw22zhXU' 'wifFj1Q37c dVkrXU0WHHlNrTNqQL'\n",
      " 'PJo3tNoAisdtDjai3bdlI8wUaY0tS' 'E3huQ1IF1tCEi4orP3geZQY3EoGwW'\n",
      " 'leGHsJKuP4gVcZwLAU0m01YYTwRfp' 'nLbeMXpzMq6eRWTV78elcMEDu7qFO'\n",
      " 'rB0PJYIcVj9pSB 0rVIXMgE972HAS' 'NY5keTDGvPNjERxvjU9h5CHSqnltc'\n",
      " 'I8GQiplIZ cUZui5ioIQaOp6zQiee' 'we8Um7MzElWHz8lDWWqxjs3xUTmok'\n",
      " 'ujFcjA5lPxFp0pIyYVUqcOBzwj4W2' 'w9M5szvQUQRizash8QFPkeDlcs5wF'\n",
      " 'A3mSOQYP4jmxTDQVTVtg0WNM7sC3M' 'iViaZPkcSoflbMWK9v6fy1hMzE8bO'\n",
      " 'uKgJ8bkuomx4AFjdh O5tybFTXhJb' 'Z28bpFdVHabCeMthdknaV02xLdUno'\n",
      " 'Lf0hefnHGIbaqjYlb92VGkG13a3U4' ' mkxIp7k7kFCPBMd BVaLfKtzvY2g'\n",
      " 'EhFPE1M66RuzLEYqNVZcUsIpBs1 0' 'YEPnS1f4oMq7jlATNy8j RHIFMg2g'\n",
      " 's2p8fVj y4ZtpI4YMJtxgSIRtfZpb' 'oo5y3eRegpWsteYHXYwkyD4gKbZRw'\n",
      " 'ki6tcs7atWRRtN0BfKhleGk0XOhuM' 'LXgHPFXD8GumekMBsCpxbeSCzzWol']\n",
      "Generation: 0/10000,\tBest: ATWcybKyfCg2vdegJkbPN45f1MSrY,\tFitness=3\n",
      "leGHsJKuP4gVcMthdknaV02xLdUno\n"
     ]
    },
    {
     "ename": "IndexError",
     "evalue": "too many indices for array: array is 0-dimensional, but 1 were indexed",
     "output_type": "error",
     "traceback": [
      "\u001b[1;31m---------------------------------------------------------------------------\u001b[0m",
      "\u001b[1;31mIndexError\u001b[0m                                Traceback (most recent call last)",
      "Input \u001b[1;32mIn [74]\u001b[0m, in \u001b[0;36m<cell line: 17>\u001b[1;34m()\u001b[0m\n\u001b[0;32m     14\u001b[0m problem \u001b[38;5;241m=\u001b[39m PhraseGeneration(target, alphabet)\n\u001b[0;32m     16\u001b[0m \u001b[38;5;66;03m# and run it\u001b[39;00m\n\u001b[1;32m---> 17\u001b[0m solution, history \u001b[38;5;241m=\u001b[39m \u001b[43mgenetic_algorithm\u001b[49m\u001b[43m(\u001b[49m\u001b[43mproblem\u001b[49m\u001b[43m,\u001b[49m\u001b[43m \u001b[49m\u001b[43mngen\u001b[49m\u001b[43m,\u001b[49m\u001b[43m \u001b[49m\u001b[43mmax_population\u001b[49m\u001b[43m,\u001b[49m\u001b[43m \u001b[49m\u001b[43mmutation_rate\u001b[49m\u001b[43m)\u001b[49m\n\u001b[0;32m     18\u001b[0m solution\n",
      "Input \u001b[1;32mIn [73]\u001b[0m, in \u001b[0;36mgenetic_algorithm\u001b[1;34m(problem, ngen, n_init_size, mutation_rate, log_intervel)\u001b[0m\n\u001b[0;32m     87\u001b[0m history \u001b[38;5;241m=\u001b[39m [(\u001b[38;5;241m0\u001b[39m, \u001b[38;5;28mlist\u001b[39m(\u001b[38;5;28mmap\u001b[39m(problem\u001b[38;5;241m.\u001b[39mfitness, population)))]\n\u001b[0;32m     89\u001b[0m \u001b[38;5;28;01mfor\u001b[39;00m gen \u001b[38;5;129;01min\u001b[39;00m \u001b[38;5;28mrange\u001b[39m(ngen):\n\u001b[1;32m---> 90\u001b[0m     next_gen    \u001b[38;5;241m=\u001b[39m \u001b[43mproblem\u001b[49m\u001b[38;5;241;43m.\u001b[39;49m\u001b[43mreproduce\u001b[49m\u001b[43m(\u001b[49m\u001b[43mpopulation\u001b[49m\u001b[43m,\u001b[49m\u001b[43m \u001b[49m\u001b[43mmutation_rate\u001b[49m\u001b[43m)\u001b[49m\n\u001b[0;32m     91\u001b[0m     population  \u001b[38;5;241m=\u001b[39m problem\u001b[38;5;241m.\u001b[39mreplacement(population, next_gen)\n\u001b[0;32m     93\u001b[0m     \u001b[38;5;28;01mif\u001b[39;00m gen \u001b[38;5;241m%\u001b[39m log_intervel \u001b[38;5;241m==\u001b[39m \u001b[38;5;241m0\u001b[39m:\n",
      "Input \u001b[1;32mIn [73]\u001b[0m, in \u001b[0;36mPhraseGeneration.reproduce\u001b[1;34m(self, population, mutation_rate)\u001b[0m\n\u001b[0;32m     69\u001b[0m \u001b[38;5;28;01mdef\u001b[39;00m \u001b[38;5;21mreproduce\u001b[39m(\u001b[38;5;28mself\u001b[39m, population, mutation_rate):\n\u001b[1;32m---> 71\u001b[0m     child \u001b[38;5;241m=\u001b[39m mutate(\u001b[38;5;28mself\u001b[39m\u001b[38;5;241m.\u001b[39mrecombine(\u001b[38;5;241m*\u001b[39m\u001b[38;5;28;43mself\u001b[39;49m\u001b[38;5;241;43m.\u001b[39;49m\u001b[43mselect\u001b[49m\u001b[43m(\u001b[49m\u001b[38;5;241;43m2\u001b[39;49m\u001b[43m,\u001b[49m\u001b[43m \u001b[49m\u001b[43mpopulation\u001b[49m\u001b[43m,\u001b[49m\u001b[43m \u001b[49m\u001b[38;5;28;43mself\u001b[39;49m\u001b[38;5;241;43m.\u001b[39;49m\u001b[43mfitness\u001b[49m\u001b[43m)\u001b[49m), gene_pool, \u001b[38;5;241m0.1\u001b[39m)\n\u001b[0;32m     72\u001b[0m     \u001b[38;5;28;01mreturn\u001b[39;00m child\n\u001b[0;32m     73\u001b[0m     \u001b[38;5;28;01mraise\u001b[39;00m \u001b[38;5;167;01mNotImplementedError\u001b[39;00m()\n",
      "Input \u001b[1;32mIn [73]\u001b[0m, in \u001b[0;36mPhraseGeneration.select\u001b[1;34m(self, r, population, fitness_fn)\u001b[0m\n\u001b[0;32m     59\u001b[0m population \u001b[38;5;241m=\u001b[39m np\u001b[38;5;241m.\u001b[39marray(population)\n\u001b[0;32m     60\u001b[0m \u001b[38;5;28mprint\u001b[39m(population)\n\u001b[1;32m---> 61\u001b[0m \u001b[38;5;28;01mreturn\u001b[39;00m \u001b[43mpopulation\u001b[49m\u001b[43m[\u001b[49m\u001b[43mscores\u001b[49m\u001b[43m[\u001b[49m\u001b[38;5;241;43m-\u001b[39;49m\u001b[43mr\u001b[49m\u001b[43m:\u001b[49m\u001b[43m]\u001b[49m\u001b[43m]\u001b[49m\n",
      "\u001b[1;31mIndexError\u001b[0m: too many indices for array: array is 0-dimensional, but 1 were indexed"
     ]
    }
   ],
   "source": [
    "# now set up the parameters\n",
    "ngen = 10000\n",
    "max_population = 120\n",
    "mutation_rate = 0.08\n",
    "\n",
    "u_case = [chr(x) for x in range(65, 91)]\n",
    "l_case = [chr(x) for x in range(97, 123)]\n",
    "gene_pool = u_case + l_case + [' ']+[str(x) for x in range(0,10)]\n",
    "\n",
    "sid = 12011125 #TODO:  replace this with your own sid\n",
    "target = f\"Genetic Algorithm by {sid}\" \n",
    "alphabet = gene_pool # TODO: fix this: what is the search space now?\n",
    "\n",
    "problem = PhraseGeneration(target, alphabet)\n",
    "\n",
    "# and run it\n",
    "solution, history = genetic_algorithm(problem, ngen, max_population, mutation_rate)\n",
    "solution"
   ]
  },
  {
   "cell_type": "code",
   "execution_count": 35,
   "metadata": {
    "ExecuteTime": {
     "end_time": "2022-11-02T11:50:55.261851Z",
     "start_time": "2022-11-02T11:50:55.108450Z"
    },
    "pycharm": {
     "name": "#%%\n"
    }
   },
   "outputs": [
    {
     "ename": "AttributeError",
     "evalue": "'PhraseGeneration' object has no attribute 'max_fitness'",
     "output_type": "error",
     "traceback": [
      "\u001b[1;31m---------------------------------------------------------------------------\u001b[0m",
      "\u001b[1;31mAttributeError\u001b[0m                            Traceback (most recent call last)",
      "Input \u001b[1;32mIn [35]\u001b[0m, in \u001b[0;36m<cell line: 2>\u001b[1;34m()\u001b[0m\n\u001b[0;32m      1\u001b[0m \u001b[38;5;66;03m# visualize the evolution of the polulation\u001b[39;00m\n\u001b[1;32m----> 2\u001b[0m bins \u001b[38;5;241m=\u001b[39m np\u001b[38;5;241m.\u001b[39mlinspace(\u001b[38;5;241m0\u001b[39m, \u001b[43mproblem\u001b[49m\u001b[38;5;241;43m.\u001b[39;49m\u001b[43mmax_fitness\u001b[49m, problem\u001b[38;5;241m.\u001b[39mmax_fitness\u001b[38;5;241m+\u001b[39m\u001b[38;5;241m1\u001b[39m)\n\u001b[0;32m      3\u001b[0m plot_evolution(history, bins)\n\u001b[0;32m      4\u001b[0m bins\n",
      "\u001b[1;31mAttributeError\u001b[0m: 'PhraseGeneration' object has no attribute 'max_fitness'"
     ]
    }
   ],
   "source": [
    "# visualize the evolution of the polulation\n",
    "bins = np.linspace(0, problem.max_fitness, problem.max_fitness+1)\n",
    "plot_evolution(history, bins)\n",
    "bins"
   ]
  },
  {
   "cell_type": "markdown",
   "metadata": {
    "pycharm": {
     "name": "#%% md\n"
    }
   },
   "source": [
    "## 2. N-Queens Problem\n",
    "\n",
    "It is possible to solve the N-Queens problem with slight modifications.\n",
    "\n",
    "For the problem:\n",
    "\n",
    "1. Direct Representation: placement of queens.\n",
    "2. Search Space: $n^n$, if we don't use any constraints.\n",
    "\n",
    "To use GA:\n",
    "\n",
    "Actually a new fitness function is the minimum modification you need for this problem.\n",
    "\n",
    "Others are alomost the same as the previous problem."
   ]
  },
  {
   "cell_type": "code",
   "execution_count": null,
   "metadata": {
    "pycharm": {
     "name": "#%%\n"
    }
   },
   "outputs": [],
   "source": [
    "class NQueensProblem(GAProblem):\n",
    "    def __init__(self, n):\n",
    "        self.n = n\n",
    "        self.max_fitness =  n*(n-1)//2 # max number if non-attacking pairs\n",
    "\n",
    "    def init_population(self, pop_size):\n",
    "        # TODO:alomost the same as the previous problem.\n",
    "        raise NotImplementedError()\n",
    "    \n",
    "    def fitness(self, queens):\n",
    "        \"\"\"\n",
    "        TODO\n",
    "\n",
    "        hint: count the non-attacking pairs\n",
    "        \"\"\"\n",
    "        raise NotImplementedError()\n",
    "\n",
    "    def reproduce(self, population, mutation_rate):\n",
    "        # TODO:alomost the same as the previous problem.\n",
    "        raise NotImplementedError()\n",
    "\n",
    "    def replacement(self, old, new):\n",
    "        \"\"\"\n",
    "        You can use your own strategy, for example retain some solutions from the old population\n",
    "        \"\"\"\n",
    "        return new\n",
    "\n",
    "    def __repr__(self):\n",
    "        return f\"{self.n}-Queens Problem\""
   ]
  },
  {
   "cell_type": "code",
   "execution_count": null,
   "metadata": {
    "pycharm": {
     "name": "#%%\n"
    }
   },
   "outputs": [],
   "source": [
    "from utils import plot_NQueens\n",
    "ngen = 1000\n",
    "init_size = 120\n",
    "mutation_rate = 0.08\n",
    "\n",
    "n = 8\n",
    "problem = NQueensProblem(n)\n",
    "solution, history = genetic_algorithm(problem, ngen, init_size, mutation_rate)"
   ]
  },
  {
   "cell_type": "code",
   "execution_count": null,
   "metadata": {
    "pycharm": {
     "name": "#%%\n"
    }
   },
   "outputs": [],
   "source": [
    "# Example of how to use this function\n",
    "# plot_NQueens([4, 2, 0, 6, 1, 7, 5, 3])\n",
    "# replace the parameter with your own results\n",
    "plot_NQueens(solution)"
   ]
  },
  {
   "cell_type": "code",
   "execution_count": null,
   "metadata": {
    "pycharm": {
     "name": "#%%\n"
    }
   },
   "outputs": [],
   "source": [
    "# Visualize the evolution of the polulation\n",
    "bins = np.linspace(0, problem.max_fitness, problem.max_fitness)\n",
    "plot_evolution(history, bins)"
   ]
  }
 ],
 "metadata": {
  "interpreter": {
   "hash": "fb94abd67aa002aa187ead1d4120a8ec4bfee3e4c9494aaf1e01cee1e01ca26c"
  },
  "kernelspec": {
   "display_name": "Python 3 (ipykernel)",
   "language": "python",
   "name": "python3"
  },
  "language_info": {
   "codemirror_mode": {
    "name": "ipython",
    "version": 3
   },
   "file_extension": ".py",
   "mimetype": "text/x-python",
   "name": "python",
   "nbconvert_exporter": "python",
   "pygments_lexer": "ipython3",
   "version": "3.9.12"
  }
 },
 "nbformat": 4,
 "nbformat_minor": 2
}
