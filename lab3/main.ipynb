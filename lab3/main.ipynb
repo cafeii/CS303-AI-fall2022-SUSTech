{
 "cells": [
  {
   "cell_type": "code",
   "execution_count": 1,
   "id": "25b5d9c2",
   "metadata": {
    "ExecuteTime": {
     "end_time": "2022-09-21T11:18:42.374149Z",
     "start_time": "2022-09-21T11:18:39.971136Z"
    }
   },
   "outputs": [
    {
     "ename": "NameError",
     "evalue": "name '__file__' is not defined",
     "output_type": "error",
     "traceback": [
      "\u001b[1;31m---------------------------------------------------------------------------\u001b[0m",
      "\u001b[1;31mNameError\u001b[0m                                 Traceback (most recent call last)",
      "Input \u001b[1;32mIn [1]\u001b[0m, in \u001b[0;36m<cell line: 9>\u001b[1;34m()\u001b[0m\n\u001b[0;32m      6\u001b[0m \u001b[38;5;28;01mimport\u001b[39;00m \u001b[38;5;21;01mplotting\u001b[39;00m\n\u001b[0;32m      7\u001b[0m \u001b[38;5;28;01mfrom\u001b[39;00m \u001b[38;5;21;01mutils\u001b[39;00m\u001b[38;5;21;01m.\u001b[39;00m\u001b[38;5;21;01mmap\u001b[39;00m \u001b[38;5;28;01mimport\u001b[39;00m mat2obs, read_map\n\u001b[1;32m----> 9\u001b[0m file_folder \u001b[38;5;241m=\u001b[39m Path(\u001b[38;5;18;43m__file__\u001b[39;49m)\u001b[38;5;241m.\u001b[39mparent \u001b[38;5;66;03m# file is more accurate then cwd\u001b[39;00m\n\u001b[0;32m     10\u001b[0m test_folder \u001b[38;5;241m=\u001b[39m file_folder\u001b[38;5;241m/\u001b[39m\u001b[38;5;124m'\u001b[39m\u001b[38;5;124mtest_cases\u001b[39m\u001b[38;5;124m'\u001b[39m\n\u001b[0;32m     11\u001b[0m save_fig \u001b[38;5;241m=\u001b[39m\u001b[38;5;28;01mTrue\u001b[39;00m \u001b[38;5;66;03m# whether to generate gif file. If true, the real time display would be much slower. \u001b[39;00m\n",
      "\u001b[1;31mNameError\u001b[0m: name '__file__' is not defined"
     ]
    }
   ],
   "source": [
    "from pathlib import Path\n",
    "from matplotlib import pyplot as plt\n",
    "import tomli #the lib to read config file\n",
    "import sys\n",
    "from agent import ProblemSolvingAgent\n",
    "import plotting\n",
    "from utils.map import mat2obs, read_map\n",
    "\n",
    "file_folder = Path(__file__).parent # file is more accurate then cwd\n",
    "test_folder = file_folder/'test_cases'\n",
    "save_fig =True # whether to generate gif file. If true, the real time display would be much slower. \n",
    "image_path = file_folder / 'images'  # image and animation path  \n",
    "gif_path = file_folder / 'gif'      # gif path\n",
    "sys.path.append(str(file_folder)) # add the current directory to the path. \n",
    "\n",
    "# agent algorithm\n",
    "agent = ProblemSolvingAgent() # The agent implementation, you should complete the agent.py\n",
    "while True:\n",
    "    case = input('Please input the test case number, or input q to quit. ') or '1'\n",
    "    if case.strip()=='q':\n",
    "        break\n",
    "    # environment world\n",
    "    with open(test_folder/f'case{case}.toml', 'rb') as f:\n",
    "        config = tomli.load(f)\n",
    "    world_config = config['world']\n",
    "    map = read_map(world_config, test_folder)\n",
    "    obstacles = mat2obs(map)\n",
    "    # coordinates of origin and destination\n",
    "    start_point = tuple(world_config['start_point'])\n",
    "    goal_point  = tuple(world_config['goal_point'])\n",
    "    # DepthFirstSearch, BreadthFirstSearch, UniformCostSearch(Dijkstra), Greedy BestFirstSearch, Astar\n",
    "    algorithms = ['DFS', 'BFS', 'UCS', 'GBFS', 'Astar']\n",
    "    while True:\n",
    "        print('Please choose an algorithm to display, or input c to checkout another map, or input d to enable or disable gif saving. ')\n",
    "        algorithm = input(f'Supported algorithms are {algorithms}') or 'DFS'\n",
    "        if algorithm.strip()=='c':\n",
    "            break\n",
    "        elif algorithm.strip()=='d':\n",
    "            save_fig = save_fig ^ True \n",
    "            print(f'save_fig={save_fig}')\n",
    "        else:\n",
    "            path, visited = agent.solve_by_searching(obstacles, start_point, goal_point, algorithm)\n",
    "            plot = plotting.Plotting(start_point, goal_point, obstacles, \n",
    "                                    save_fig=save_fig, image_path=image_path, gif_path=gif_path,\n",
    "                                    sampling_period = world_config['sampling_period'])\n",
    "            if save_fig:\n",
    "                plot.clear_image_path()\n",
    "            plot.animation(path, visited, algorithm)\n",
    "            plot.generate_gif(algorithm+case, fps=world_config['fps'])"
   ]
  },
  {
   "cell_type": "code",
   "execution_count": null,
   "id": "e867aaea",
   "metadata": {},
   "outputs": [],
   "source": []
  },
  {
   "cell_type": "code",
   "execution_count": 2,
   "id": "cfbca186",
   "metadata": {
    "ExecuteTime": {
     "end_time": "2022-09-21T12:27:29.887541Z",
     "start_time": "2022-09-21T12:27:29.863546Z"
    }
   },
   "outputs": [
    {
     "data": {
      "text/plain": [
       "(0, 1, 2, 18)"
      ]
     },
     "execution_count": 2,
     "metadata": {},
     "output_type": "execute_result"
    }
   ],
   "source": [
    "(0,1)+(2,18)"
   ]
  },
  {
   "cell_type": "code",
   "execution_count": null,
   "id": "d88f35a2",
   "metadata": {},
   "outputs": [],
   "source": []
  }
 ],
 "metadata": {
  "kernelspec": {
   "display_name": "Python 3 (ipykernel)",
   "language": "python",
   "name": "python3"
  },
  "language_info": {
   "codemirror_mode": {
    "name": "ipython",
    "version": 3
   },
   "file_extension": ".py",
   "mimetype": "text/x-python",
   "name": "python",
   "nbconvert_exporter": "python",
   "pygments_lexer": "ipython3",
   "version": "3.9.12"
  }
 },
 "nbformat": 4,
 "nbformat_minor": 5
}
