{
 "cells": [
  {
   "cell_type": "markdown",
   "id": "64da1d8e",
   "metadata": {},
   "source": [
    "## Practice\n",
    "\n",
    "1. Create a 10*10 ndarray object, and the matrix boundary value is 1, and the rest are 0.\n"
   ]
  },
  {
   "cell_type": "code",
   "execution_count": 15,
   "id": "035382e3",
   "metadata": {
    "ExecuteTime": {
     "end_time": "2022-09-14T11:26:59.227305Z",
     "start_time": "2022-09-14T11:26:59.209650Z"
    }
   },
   "outputs": [
    {
     "data": {
      "text/plain": [
       "array([[1, 1, 1, 1, 1, 1, 1, 1, 1, 1],\n",
       "       [1, 0, 0, 0, 0, 0, 0, 0, 0, 1],\n",
       "       [1, 0, 0, 0, 0, 0, 0, 0, 0, 1],\n",
       "       [1, 0, 0, 0, 0, 0, 0, 0, 0, 1],\n",
       "       [1, 0, 0, 0, 0, 0, 0, 0, 0, 1],\n",
       "       [1, 0, 0, 0, 0, 0, 0, 0, 0, 1],\n",
       "       [1, 0, 0, 0, 0, 0, 0, 0, 0, 1],\n",
       "       [1, 0, 0, 0, 0, 0, 0, 0, 0, 1],\n",
       "       [1, 0, 0, 0, 0, 0, 0, 0, 0, 1],\n",
       "       [1, 1, 1, 1, 1, 1, 1, 1, 1, 1]])"
      ]
     },
     "execution_count": 15,
     "metadata": {},
     "output_type": "execute_result"
    }
   ],
   "source": [
    "#1\n",
    "import numpy as np\n",
    "\n",
    "arr = np.zeros([8,8],dtype=int)\n",
    "brr = np.ones(8,dtype=int)\n",
    "crr = np.ones(10,dtype=int)\n",
    "arr = np.vstack([brr,arr,brr])\n",
    "arr = np.vstack([crr,arr.T,crr])\n",
    "arr"
   ]
  },
  {
   "cell_type": "markdown",
   "id": "8d3b3c80",
   "metadata": {},
   "source": [
    "2. Create a 5*5 matrix with each row being 0 to 4"
   ]
  },
  {
   "cell_type": "code",
   "execution_count": 19,
   "id": "6c26347e",
   "metadata": {
    "ExecuteTime": {
     "end_time": "2022-09-14T11:30:30.580042Z",
     "start_time": "2022-09-14T11:30:30.569102Z"
    }
   },
   "outputs": [
    {
     "data": {
      "text/plain": [
       "array([[0, 1, 2, 3, 4],\n",
       "       [0, 1, 2, 3, 4],\n",
       "       [0, 1, 2, 3, 4],\n",
       "       [0, 1, 2, 3, 4],\n",
       "       [0, 1, 2, 3, 4]])"
      ]
     },
     "execution_count": 19,
     "metadata": {},
     "output_type": "execute_result"
    }
   ],
   "source": [
    "#2\n",
    "arr = np.tile(np.arange(5),(5,1))\n",
    "arr"
   ]
  },
  {
   "cell_type": "markdown",
   "id": "8b226308",
   "metadata": {},
   "source": [
    "3. Create an 8*8 matrix and fill it with a checkerboard pattern, like [[0,1],[1,0]])"
   ]
  },
  {
   "cell_type": "code",
   "execution_count": 22,
   "id": "e83e8494",
   "metadata": {
    "ExecuteTime": {
     "end_time": "2022-09-14T11:32:31.840083Z",
     "start_time": "2022-09-14T11:32:31.829980Z"
    }
   },
   "outputs": [
    {
     "data": {
      "text/plain": [
       "array([[0., 1., 0., 1., 0., 1., 0., 1.],\n",
       "       [1., 0., 1., 0., 1., 0., 1., 0.],\n",
       "       [0., 1., 0., 1., 0., 1., 0., 1.],\n",
       "       [1., 0., 1., 0., 1., 0., 1., 0.],\n",
       "       [0., 1., 0., 1., 0., 1., 0., 1.],\n",
       "       [1., 0., 1., 0., 1., 0., 1., 0.],\n",
       "       [0., 1., 0., 1., 0., 1., 0., 1.],\n",
       "       [1., 0., 1., 0., 1., 0., 1., 0.]])"
      ]
     },
     "execution_count": 22,
     "metadata": {},
     "output_type": "execute_result"
    }
   ],
   "source": [
    "#3\n",
    "arr = np.array([[0.,1.],[1.,0.]])\n",
    "arr = np.tile(arr, (4,4))\n",
    "arr"
   ]
  },
  {
   "cell_type": "markdown",
   "id": "04663245",
   "metadata": {},
   "source": [
    "4. output all the odd numbers in the array  \n",
    "   Example:  \n",
    "   in:    arr = np.array([0, 1, 2, 3, 4, 5, 6, 7, 8, 9])  \n",
    "   out:   array([1, 3, 5, 7, 9])  "
   ]
  },
  {
   "cell_type": "code",
   "execution_count": 25,
   "id": "7964df33",
   "metadata": {
    "ExecuteTime": {
     "end_time": "2022-09-14T11:33:56.148067Z",
     "start_time": "2022-09-14T11:33:56.132803Z"
    }
   },
   "outputs": [
    {
     "data": {
      "text/plain": [
       "array([1, 3, 5, 7, 9])"
      ]
     },
     "execution_count": 25,
     "metadata": {},
     "output_type": "execute_result"
    }
   ],
   "source": [
    "#4\n",
    "arr = np.array([0, 1, 2, 3, 4, 5, 6, 7, 8, 9])\n",
    "arr = arr[1::2]\n",
    "arr"
   ]
  },
  {
   "cell_type": "markdown",
   "id": "fc506104",
   "metadata": {},
   "source": [
    "5. Normalize a 5x5 random matrix "
   ]
  },
  {
   "cell_type": "code",
   "execution_count": 33,
   "id": "972284fd",
   "metadata": {
    "ExecuteTime": {
     "end_time": "2022-09-14T11:39:27.270925Z",
     "start_time": "2022-09-14T11:39:27.254225Z"
    }
   },
   "outputs": [
    {
     "data": {
      "text/plain": [
       "array([[0.04167754, 0.98741848, 0.22148646, 0.6371155 , 0.23423379],\n",
       "       [0.89744407, 0.96186299, 0.04022208, 0.97585389, 0.74087058],\n",
       "       [0.3353863 , 0.78341893, 0.65151411, 0.79948046, 0.57362009],\n",
       "       [0.73362877, 0.3920217 , 0.87698987, 0.73004188, 0.71031241],\n",
       "       [0.11676587, 0.96319122, 0.357002  , 0.04993012, 0.75824675]])"
      ]
     },
     "execution_count": 33,
     "metadata": {},
     "output_type": "execute_result"
    }
   ],
   "source": [
    "#5\n",
    "arr = np.random.random(size=(5,5))\n",
    "arr"
   ]
  },
  {
   "cell_type": "markdown",
   "id": "df87456c",
   "metadata": {},
   "source": [
    "6. Consider a random 10x2 matrix representing cartesian coordinates, convert them to polar coordinates."
   ]
  },
  {
   "cell_type": "code",
   "execution_count": 36,
   "id": "125feb23",
   "metadata": {
    "ExecuteTime": {
     "end_time": "2022-09-14T11:47:51.298485Z",
     "start_time": "2022-09-14T11:47:51.282746Z"
    }
   },
   "outputs": [
    {
     "name": "stdout",
     "output_type": "stream",
     "text": [
      "[[0.49976629 0.00786987 0.31749518 0.81511684 0.06185822 0.90176559\n",
      "  0.15359211 0.47050179 0.27364978 0.41144691]\n",
      " [0.40765367 0.89836799 0.36051602 0.14553933 0.63727455 0.56494959\n",
      "  0.76582628 0.71579684 0.6247511  0.65600402]]\n"
     ]
    },
    {
     "data": {
      "text/plain": [
       "array([0.6449402 , 0.89840246, 0.48039045, 0.82800795, 0.64026971,\n",
       "       1.06411899, 0.78107646, 0.85658453, 0.68205435, 0.77435769])"
      ]
     },
     "execution_count": 36,
     "metadata": {},
     "output_type": "execute_result"
    }
   ],
   "source": [
    "#6\n",
    "XY = np.random.random(size = (2,10))\n",
    "print(XY)\n",
    "r = np.sqrt(XY[1]**2+XY[0]**2)\n",
    "r"
   ]
  },
  {
   "cell_type": "markdown",
   "id": "c1cedf1f",
   "metadata": {},
   "source": [
    "7. Consider the vector [1, 2, 3, 4, 5], how to build a new vector with 3 consecutive zeros interleaved between each value?"
   ]
  },
  {
   "cell_type": "code",
   "execution_count": 41,
   "id": "c8a88dfd",
   "metadata": {
    "ExecuteTime": {
     "end_time": "2022-09-14T11:57:35.514346Z",
     "start_time": "2022-09-14T11:57:35.503029Z"
    }
   },
   "outputs": [
    {
     "data": {
      "text/plain": [
       "array([1, 0, 0, 0, 2, 0, 0, 0, 3, 0, 0, 0, 4, 0, 0, 0, 5])"
      ]
     },
     "execution_count": 41,
     "metadata": {},
     "output_type": "execute_result"
    }
   ],
   "source": [
    "#7\n",
    "arr = [1, 2, 3, 4, 5]\n",
    "orr = [0,0,0]\n",
    "i= 4\n",
    "while i > 0:\n",
    "    arr = np.insert(arr,i,orr)\n",
    "    i -= 1\n",
    "arr"
   ]
  },
  {
   "cell_type": "markdown",
   "id": "c7ea103c",
   "metadata": {},
   "source": [
    "8. What are the result of the following expressions?\n",
    "\n",
    "0 * np.nan\n",
    "\n",
    "np.nan == np.nan\n",
    "\n",
    "np.inf > np.nan\n",
    "\n",
    "np.nan - np.nan\n",
    "\n",
    "np.nan in set([np.nan])\n",
    "\n",
    "0.3 == 3 * 0.1 \n",
    "\n",
    "(hint1:nan means not a number \n",
    "hint2:0.1(10) == 0.0001100110011001100110011001100110011001100110011...(2))\n",
    "First guess a result, then print the result, and finally find why"
   ]
  },
  {
   "cell_type": "code",
   "execution_count": 43,
   "id": "ee65170c",
   "metadata": {
    "ExecuteTime": {
     "end_time": "2022-09-14T11:59:14.671901Z",
     "start_time": "2022-09-14T11:59:14.654777Z"
    }
   },
   "outputs": [
    {
     "name": "stdout",
     "output_type": "stream",
     "text": [
      "nan\n",
      "False\n",
      "False\n",
      "nan\n",
      "True\n",
      "False\n"
     ]
    }
   ],
   "source": [
    "#8\n",
    "print(0 * np.nan)\n",
    "\n",
    "print(np.nan == np.nan)\n",
    "\n",
    "print(np.inf > np.nan)\n",
    "\n",
    "print(np.nan - np.nan)\n",
    "\n",
    "print(np.nan in set([np.nan]))\n",
    "\n",
    "print(0.3 == 3 * 0.1)\n",
    "\n",
    "#nan参与任何运算结果均为nan\n",
    "#nan不可比较\n",
    "#浮点数"
   ]
  },
  {
   "cell_type": "markdown",
   "id": "7218ef9e",
   "metadata": {},
   "source": [
    "9. What are the result of the following expressions? (Hint: the type of pn.nan is float)\n",
    "\n",
    "np.array(0) / np.array(0)\n",
    "\n",
    "np.array(0) // np.array(0)\n",
    "\n",
    "np.array([np.nan]).astype(int).astype(float)\n",
    "\n",
    "\n",
    "First guess a result, then print the result, and finally find why "
   ]
  },
  {
   "cell_type": "code",
   "execution_count": 47,
   "id": "cc0b2732",
   "metadata": {
    "ExecuteTime": {
     "end_time": "2022-09-14T12:05:47.816411Z",
     "start_time": "2022-09-14T12:05:47.802376Z"
    }
   },
   "outputs": [
    {
     "name": "stdout",
     "output_type": "stream",
     "text": [
      "nan\n",
      "0\n",
      "[-2.14748365e+09]\n"
     ]
    },
    {
     "name": "stderr",
     "output_type": "stream",
     "text": [
      "C:\\Users\\liu zhichen\\AppData\\Local\\Temp\\ipykernel_8076\\2429983151.py:2: RuntimeWarning: invalid value encountered in true_divide\n",
      "  print(np.array(0)/np.array(0))\n",
      "C:\\Users\\liu zhichen\\AppData\\Local\\Temp\\ipykernel_8076\\2429983151.py:3: RuntimeWarning: divide by zero encountered in floor_divide\n",
      "  print(np.array(0)//np.array(0))\n"
     ]
    }
   ],
   "source": [
    "#9\n",
    "print(np.array(0)/np.array(0))\n",
    "print(np.array(0)//np.array(0))\n",
    "print(np.array([np.nan]).astype(int).astype(float))"
   ]
  },
  {
   "cell_type": "code",
   "execution_count": null,
   "id": "11095372",
   "metadata": {},
   "outputs": [],
   "source": []
  }
 ],
 "metadata": {
  "kernelspec": {
   "display_name": "Python 3 (ipykernel)",
   "language": "python",
   "name": "python3"
  },
  "language_info": {
   "codemirror_mode": {
    "name": "ipython",
    "version": 3
   },
   "file_extension": ".py",
   "mimetype": "text/x-python",
   "name": "python",
   "nbconvert_exporter": "python",
   "pygments_lexer": "ipython3",
   "version": "3.9.12"
  }
 },
 "nbformat": 4,
 "nbformat_minor": 5
}
